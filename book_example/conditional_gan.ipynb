{
 "cells": [
  {
   "cell_type": "code",
   "execution_count": 1,
   "metadata": {},
   "outputs": [],
   "source": [
    "import tensorflow as tf\n",
    "import tensorflow_datasets as tfds\n",
    "import matplotlib.pyplot as plt\n",
    "\n",
    "dataset, info = tfds.load(\"fashion_mnist\", split=\"train\", with_info=True)\n",
    "\n",
    "def convert(row):\n",
    "    image = tf.image.convert_image_dtype(row[\"image\"], tf.float32)\n",
    "    label = tf.cast(row[\"label\"], tf.float32)\n",
    "    return image, label\n",
    "\n",
    "batch_size = 32\n",
    "dataset = dataset.map(convert).batch(batch_size).prefetch(1)\n"
   ]
  },
  {
   "cell_type": "code",
   "execution_count": 2,
   "metadata": {},
   "outputs": [],
   "source": [
    "#생성기 정의\n",
    "def get_generator(latent_dimension):\n",
    "    #조건 서브 네트워크 : 조건을 히든 표현으로 인코딩\n",
    "    condition = tf.keras.layers.Input((1,))\n",
    "    net = tf.keras.layers.Dense(32, activation=tf.nn.elu)(condition)\n",
    "    net = tf.keras.layers.Dense(64, activation=tf.nn.elu)(net)\n",
    "    #히든 조건 표현을 노이즈와 업샘플에 연결\n",
    "    noise = tf.keras.layers.Input(latent_dimension)\n",
    "    inputs = tf.keras.layers.Concatenate()([noise, net])\n",
    "    # Convert inputs from (batch_size, latent_dimension +1)\n",
    "    #(batch)size, latent_dimension + 1)인 inputs를\n",
    "    #컨볼류션을 사용할 수 있는 4차원 텐서로 변경\n",
    "    inputs = tf.keras.layers.Reshape((1,1, inputs.shape[-1]))(inputs)\n",
    "    depth = 128\n",
    "    kernel_size = 5\n",
    "    net = tf.keras.layers.Conv2DTranspose(\n",
    "        depth, kernel_size,\n",
    "        padding=\"valid\",\n",
    "        strides=1,\n",
    "        activation=tf.nn.relu)(inputs)# 5X5\n",
    "    net = tf.keras.layers.Conv2DTranspose(\n",
    "        depth//2, kernel_size,\n",
    "        padding=\"valid\",\n",
    "        strides=2,\n",
    "        activation=tf.nn.relu)(net) # 13X13\n",
    "    net = tf.keras.layers.Conv2DTranspose(\n",
    "        depth//4, kernel_size,\n",
    "        padding=\"valid\",\n",
    "        strides=2,\n",
    "        activation=tf.nn.relu,\n",
    "        use_bias = False )(net) #29X29\n",
    "    #28X28X1 출력을 얻기 위해 2x2 커널과의 표준 컨볼류션\n",
    "    #이미지가 [0,1] 범위에 있기 때문에 출력은 sigmoid를 사용한다.\n",
    "\n",
    "    net = tf.keras.layers.Conv2D(\n",
    "        1,2,\n",
    "        padding = \"valid\",\n",
    "        strides = 1,\n",
    "        activation = tf.nn.sigmoid,\n",
    "        use_bias= False)(net)\n",
    "\n",
    "    model = tf.keras.Model(inputs=[noise, condition], outputs=net)\n",
    "    return model\n"
   ]
  },
  {
   "cell_type": "code",
   "execution_count": 3,
   "metadata": {},
   "outputs": [],
   "source": [
    "#판별기 정의\n",
    "def get_discriminator():\n",
    "    #인코더 서브네트워크: 피처 벡터를 얻는 피처 추출기\n",
    "    image = tf.keras.layers.Input((28,28,1))\n",
    "    depth = 32\n",
    "    kernel_size = 3\n",
    "    net = tf.keras.layers.Conv2D(\n",
    "        depth, kernel_size,\n",
    "        padding=\"same\",\n",
    "        strides = 2,\n",
    "        activation=tf.nn.relu)(image) #14x14x32\n",
    "    net = tf.keras.layers.Conv2D(\n",
    "        depth*2, kernel_size,\n",
    "        padding=\"same\",\n",
    "        strides = 2,\n",
    "        activation=tf.nn.relu)(net) #7x7x64\n",
    "    net = tf.keras.layers.Conv2D(\n",
    "        depth*3, kernel_size,\n",
    "        padding=\"same\",\n",
    "        strides = 2,\n",
    "        activation=tf.nn.relu)(net) #4x4x96\n",
    "    feature_vector = tf.keras.layers.Flatten()(net) #4*4*96\n",
    "    #조건에 관한 히든 표현 만들기\n",
    "    condition = tf.keras.layers.Input((1,))\n",
    "    hidden = tf.keras.layers.Dense(32, activation=tf.nn.elu)(condition)\n",
    "    hidden = tf.keras.layers.Dense(64, activation=tf.nn.elu)(hidden)\n",
    "    # 피처 벡터와 히든 레이블 표현 연결\n",
    "    out = tf.keras.layers.Concatenate()([feature_vector, hidden])\n",
    "    # 단일 선형 뉴런으로 이뤄진 최종 분류 레이어 추가\n",
    "    out = tf.keras.layers.Dense(128, activation=tf.nn.relu)(out)\n",
    "    out = tf.keras.layers.Dense(1)(out)\n",
    "    model = tf.keras.Model(inputs = [image, condition], outputs = out)\n",
    "    return model"
   ]
  },
  {
   "cell_type": "code",
   "execution_count": 4,
   "metadata": {},
   "outputs": [],
   "source": [
    "#적대적 훈련 과정\n",
    "bce = tf.keras.losses.BinaryCrossentropy(from_logits=True)\n",
    "\n",
    "def d_loss(d_real, d_fake):\n",
    "    '''판별기 손실함수'''\n",
    "    return bce(tf.ones_like(d_real), d_real) + bce(tf.zeros_like(d_fake), d_fake)\n",
    "    \n",
    "def g_loss(generated_output):\n",
    "    '''생성기 손실함수'''\n",
    "    return bce(tf.ones_like(generated_output), generated_output)\n",
    "\n",
    "\n"
   ]
  },
  {
   "cell_type": "code",
   "execution_count": null,
   "metadata": {},
   "outputs": [],
   "source": [
    "\n",
    "latent_dimension = 100\n",
    "G = get_generator(latent_dimension)\n",
    "D = get_discriminator()\n",
    "\n",
    "def train():\n",
    "    #옵티마이저 및 학습 연산을 정의한다.\n",
    "    optimizer = tf.keras.optimizers.Adam(1e-5)\n",
    "\n",
    "    @tf.function\n",
    "    def train_step(image, label):\n",
    "        with tf.GradientTape(persistent=True) as tape:\n",
    "            noise_vector = tf.random.normal(\n",
    "                mean=0, stddev=1,\n",
    "                shape=(image.shape[0], latent_dimension))\n",
    "            #생성기에서 샘풀링\n",
    "            fake_data = G([noise_vector, label])\n",
    "            # D 손실 계산\n",
    "            d_fake_data = D([fake_data, label])\n",
    "            d_real_data = D([image, label])\n",
    "            d_loss_value = d_loss(d_real_data, d_fake_data)\n",
    "            #G 손실 계산\n",
    "            g_loss_value = g_loss(d_fake_data)\n",
    "            #이제 손실을 계산했으므로 그래디언트를 계산하고\n",
    "            #네트워크를 최적화 할 수 있다.\n",
    "        d_gradients = tape.gradient(d_loss_value, D.trainable_variables)\n",
    "        g_gradients = tape.gradient(g_loss_value, G.trainable_variables)\n",
    "        # 테이프를 영구로 정의했기 때문에 테이프 삭제\n",
    "        del tape\n",
    "\n",
    "        optimizer.apply_gradients(zip(d_gradients, D.trainable_variables))\n",
    "        optimizer.apply_gradients(zip(g_gradients, G.trainable_variables))\n",
    "        return g_loss_value, d_loss_value, fake_data[0], label[0]\n",
    "\n",
    "    epochs = 10\n",
    "    for epoch in range(epochs):\n",
    "        for image, label in dataset:\n",
    "            g_loss_value, d_loss_value, generated, condition = train_step(image, label)\n",
    "\n",
    "        print(\"epoch\", epoch, \"complete\")\n",
    "        print(\"loss:\", g_loss_value, \"d_loss:\", d_loss_value)\n",
    "        print(\"condition\", info.features[\"label\"].int2str(\n",
    "            tf.squeeze(tf.cast(condition, tf.int32)).numpy()))\n",
    "        plt.imshow(tf.squeeze(generated).numpy(), cmap=\"gray\")\n",
    "        plt.show()\n",
    "\n"
   ]
  },
  {
   "cell_type": "code",
   "execution_count": 6,
   "metadata": {},
   "outputs": [
    {
     "name": "stdout",
     "output_type": "stream",
     "text": [
      "epoch 0 complete\n",
      "loss: tf.Tensor(2.4797385, shape=(), dtype=float32) d_loss: tf.Tensor(0.48697186, shape=(), dtype=float32)\n",
      "condition Dress\n"
     ]
    },
    {
     "data": {
      "image/png": "[encoded data removed]",
      "text/plain": [
       "<Figure size 432x288 with 1 Axes>"
      ]
     },
     "metadata": {
      "needs_background": "light"
     },
     "output_type": "display_data"
    },
    {
     "name": "stdout",
     "output_type": "stream",
     "text": [
      "epoch 1 complete\n",
      "loss: tf.Tensor(1.5852678, shape=(), dtype=float32) d_loss: tf.Tensor(0.40996987, shape=(), dtype=float32)\n",
      "condition Dress\n"
     ]
    },
    {
     "data": {
      "image/png": "[encoded data removed]",
      "text/plain": [
       "<Figure size 432x288 with 1 Axes>"
      ]
     },
     "metadata": {
      "needs_background": "light"
     },
     "output_type": "display_data"
    },
    {
     "name": "stdout",
     "output_type": "stream",
     "text": [
      "epoch 2 complete\n",
      "loss: tf.Tensor(1.2290068, shape=(), dtype=float32) d_loss: tf.Tensor(0.5917632, shape=(), dtype=float32)\n",
      "condition Dress\n"
     ]
    },
    {
     "data": {
      "image/png": "[encoded data removed]",
      "text/plain": [
       "<Figure size 432x288 with 1 Axes>"
      ]
     },
     "metadata": {
      "needs_background": "light"
     },
     "output_type": "display_data"
    },
    {
     "name": "stdout",
     "output_type": "stream",
     "text": [
      "epoch 3 complete\n",
      "loss: tf.Tensor(1.672901, shape=(), dtype=float32) d_loss: tf.Tensor(0.49679625, shape=(), dtype=float32)\n",
      "condition Dress\n"
     ]
    },
    {
     "data": {
      "image/png": "[encoded data removed]",
      "text/plain": [
       "<Figure size 432x288 with 1 Axes>"
      ]
     },
     "metadata": {
      "needs_background": "light"
     },
     "output_type": "display_data"
    },
    {
     "name": "stdout",
     "output_type": "stream",
     "text": [
      "epoch 4 complete\n",
      "loss: tf.Tensor(1.6632812, shape=(), dtype=float32) d_loss: tf.Tensor(0.49645174, shape=(), dtype=float32)\n",
      "condition Dress\n"
     ]
    },
    {
     "data": {
      "image/png": "[encoded data removed]",
      "text/plain": [
       "<Figure size 432x288 with 1 Axes>"
      ]
     },
     "metadata": {
      "needs_background": "light"
     },
     "output_type": "display_data"
    },
    {
     "name": "stdout",
     "output_type": "stream",
     "text": [
      "epoch 5 complete\n",
      "loss: tf.Tensor(1.8670795, shape=(), dtype=float32) d_loss: tf.Tensor(0.53422517, shape=(), dtype=float32)\n",
      "condition Dress\n"
     ]
    },
    {
     "data": {
      "image/png": "[encoded data removed]",
      "text/plain": [
       "<Figure size 432x288 with 1 Axes>"
      ]
     },
     "metadata": {
      "needs_background": "light"
     },
     "output_type": "display_data"
    },
    {
     "name": "stdout",
     "output_type": "stream",
     "text": [
      "epoch 6 complete\n",
      "loss: tf.Tensor(1.610527, shape=(), dtype=float32) d_loss: tf.Tensor(0.7886286, shape=(), dtype=float32)\n",
      "condition Dress\n"
     ]
    },
    {
     "data": {
      "image/png": "[encoded data removed]",
      "text/plain": [
       "<Figure size 432x288 with 1 Axes>"
      ]
     },
     "metadata": {
      "needs_background": "light"
     },
     "output_type": "display_data"
    },
    {
     "name": "stdout",
     "output_type": "stream",
     "text": [
      "epoch 7 complete\n",
      "loss: tf.Tensor(1.6873208, shape=(), dtype=float32) d_loss: tf.Tensor(0.5399401, shape=(), dtype=float32)\n",
      "condition Dress\n"
     ]
    },
    {
     "data": {
      "image/png": "[encoded data removed]",
      "text/plain": [
       "<Figure size 432x288 with 1 Axes>"
      ]
     },
     "metadata": {
      "needs_background": "light"
     },
     "output_type": "display_data"
    },
    {
     "name": "stdout",
     "output_type": "stream",
     "text": [
      "epoch 8 complete\n",
      "loss: tf.Tensor(2.0759351, shape=(), dtype=float32) d_loss: tf.Tensor(0.3661743, shape=(), dtype=float32)\n",
      "condition Dress\n"
     ]
    },
    {
     "data": {
      "image/png": "[encoded data removed]",
      "text/plain": [
       "<Figure size 432x288 with 1 Axes>"
      ]
     },
     "metadata": {
      "needs_background": "light"
     },
     "output_type": "display_data"
    },
    {
     "name": "stdout",
     "output_type": "stream",
     "text": [
      "epoch 9 complete\n",
      "loss: tf.Tensor(1.5881915, shape=(), dtype=float32) d_loss: tf.Tensor(0.50432825, shape=(), dtype=float32)\n",
      "condition Dress\n"
     ]
    },
    {
     "data": {
      "image/png": "[encoded data removed]",
      "text/plain": [
       "<Figure size 432x288 with 1 Axes>"
      ]
     },
     "metadata": {
      "needs_background": "light"
     },
     "output_type": "display_data"
    }
   ],
   "source": [
    "train()"
   ]
  }
 ],
 "metadata": {
  "kernelspec": {
   "display_name": "Python 3.9.12 ('mibot')",
   "language": "python",
   "name": "python3"
  },
  "language_info": {
   "codemirror_mode": {
    "name": "ipython",
    "version": 3
   },
   "file_extension": ".py",
   "mimetype": "text/x-python",
   "name": "python",
   "nbconvert_exporter": "python",
   "pygments_lexer": "ipython3",
   "version": "3.9.12"
  },
  "orig_nbformat": 4,
  "vscode": {
   "interpreter": {
    "hash": "9e3d47cc14d0a7d841567c666b1bce259a39d7b78ffe0f6911e5c2094b850179"
   }
  }
 },
 "nbformat": 4,
 "nbformat_minor": 2
}
